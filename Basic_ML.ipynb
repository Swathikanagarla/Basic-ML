{
  "nbformat": 4,
  "nbformat_minor": 0,
  "metadata": {
    "colab": {
      "name": "Basic ML.ipynb",
      "provenance": [],
      "authorship_tag": "ABX9TyOoXFPcIX+KUhl/iWUq42tO",
      "include_colab_link": true
    },
    "kernelspec": {
      "name": "python3",
      "display_name": "Python 3"
    },
    "language_info": {
      "name": "python"
    }
  },
  "cells": [
    {
      "cell_type": "markdown",
      "metadata": {
        "id": "view-in-github",
        "colab_type": "text"
      },
      "source": [
        "<a href=\"https://colab.research.google.com/github/Swathikanagarla/Basic-ML/blob/main/Basic_ML.ipynb\" target=\"_parent\"><img src=\"https://colab.research.google.com/assets/colab-badge.svg\" alt=\"Open In Colab\"/></a>"
      ]
    },
    {
      "cell_type": "code",
      "metadata": {
        "id": "fITvBGwuHZrP"
      },
      "source": [
        ""
      ],
      "execution_count": null,
      "outputs": []
    },
    {
      "cell_type": "markdown",
      "metadata": {
        "id": "VXQpFkmjHkND"
      },
      "source": [
        "python program to check the given year is leap year or not "
      ]
    },
    {
      "cell_type": "code",
      "metadata": {
        "colab": {
          "base_uri": "https://localhost:8080/"
        },
        "id": "ed1HZK4BIUVK",
        "outputId": "a985385a-59b3-4f93-f9aa-bc306e217700"
      },
      "source": [
        "print(\"enter the year\")\n",
        "a= int(input())\n",
        "if (a%4==0 and a%100!=0) or (a%400==0):\n",
        "  print(\"given year is leap year\")\n",
        "else:\n",
        "  print(\"given year if not a leap year\")"
      ],
      "execution_count": null,
      "outputs": [
        {
          "output_type": "stream",
          "text": [
            "enter the year\n",
            "7\n",
            "given year if not a leap year\n"
          ],
          "name": "stdout"
        }
      ]
    },
    {
      "cell_type": "markdown",
      "metadata": {
        "id": "DhbUbc5aLEi5"
      },
      "source": [
        "pytho program for checking if given number is positive or not"
      ]
    },
    {
      "cell_type": "code",
      "metadata": {
        "colab": {
          "base_uri": "https://localhost:8080/"
        },
        "id": "m_7eRMGhLQks",
        "outputId": "a240bc63-cd20-43ed-8ca8-3c0a6f82b6dc"
      },
      "source": [
        "x=int(input())\n",
        "if x>=0:\n",
        "  print(\"given number is positive\")\n",
        "else:\n",
        "  print(\"given number is negitive\")"
      ],
      "execution_count": null,
      "outputs": [
        {
          "output_type": "stream",
          "text": [
            "5\n",
            "given number is positive\n"
          ],
          "name": "stdout"
        }
      ]
    },
    {
      "cell_type": "markdown",
      "metadata": {
        "id": "TvMORjl9LimR"
      },
      "source": [
        "python program to print sum of cubes upto given n number that means if we give a number n it will print 1^3+2^3+....n^3"
      ]
    },
    {
      "cell_type": "code",
      "metadata": {
        "colab": {
          "base_uri": "https://localhost:8080/"
        },
        "id": "JvE3mCJdLvmZ",
        "outputId": "c5c7c822-8388-45fc-af36-045d707ad1ac"
      },
      "source": [
        "n=int(input())\n",
        "s=0\n",
        "for i in range(0,n+1):\n",
        "  s+=i**3\n",
        "print(s)"
      ],
      "execution_count": null,
      "outputs": [
        {
          "output_type": "stream",
          "text": [
            "8\n",
            "1296\n"
          ],
          "name": "stdout"
        }
      ]
    },
    {
      "cell_type": "markdown",
      "metadata": {
        "id": "b83m3VEqL6DA"
      },
      "source": [
        "python program to print second highest odd number in the given list of numbers if the input is 1 6 3 7 8 4 then the output is 3"
      ]
    },
    {
      "cell_type": "code",
      "metadata": {
        "colab": {
          "base_uri": "https://localhost:8080/"
        },
        "id": "rWYsT0VEMB1S",
        "outputId": "159804fc-7a8c-4dac-9bdc-e00c75d99fbd"
      },
      "source": [
        "l=[int(x) for x in input().split()]\n",
        "k = sorted(filter(lambda x : x%2==1,l))\n",
        "if len(k)>1:\n",
        "  print(k[1])\n",
        "else:\n",
        "  print(\"no solution\")"
      ],
      "execution_count": null,
      "outputs": [
        {
          "output_type": "stream",
          "text": [
            "1 5 6 3 2 4\n",
            "3\n"
          ],
          "name": "stdout"
        }
      ]
    },
    {
      "cell_type": "markdown",
      "metadata": {
        "id": "fTNRULhAMOg_"
      },
      "source": [
        "\n",
        "python program for adding factorials from 1 to n numbers, n is input and program will give 1!+2!+3!....n! as output"
      ]
    },
    {
      "cell_type": "code",
      "metadata": {
        "colab": {
          "base_uri": "https://localhost:8080/"
        },
        "id": "ADBqkWM8MXrS",
        "outputId": "13b33440-153e-4520-978d-324b741873cd"
      },
      "source": [
        "print(\"enter a number\")\n",
        "n=int(input())\n",
        "fact=1\n",
        "summ=0\n",
        "for i in range(1,n+1):\n",
        "  fact*=i\n",
        "  summ+=fact\n",
        "print(\"sum of the factorials =\",summ)"
      ],
      "execution_count": null,
      "outputs": [
        {
          "output_type": "stream",
          "text": [
            "enter a number\n",
            "5\n",
            "sum of the factorials = 153\n"
          ],
          "name": "stdout"
        }
      ]
    }
  ]
}