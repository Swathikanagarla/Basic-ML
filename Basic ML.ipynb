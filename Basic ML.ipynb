{
  "nbformat": 4,
  "nbformat_minor": 0,
  "metadata": {
    "colab": {
      "name": "Untitled3.ipynb",
      "provenance": [],
      "authorship_tag": "ABX9TyMkUZQzmi0tk7iADDgYZDPx",
      "include_colab_link": true
    },
    "kernelspec": {
      "name": "python3",
      "display_name": "Python 3"
    },
    "language_info": {
      "name": "python"
    }
  },
  "cells": [
    {
      "cell_type": "markdown",
      "metadata": {
        "id": "view-in-github",
        "colab_type": "text"
      },
      "source": [
        "<a href=\"https://colab.research.google.com/github/Swathikanagarla/Basic-ML/blob/main/Basic%20ML.ipynb\" target=\"_parent\"><img src=\"https://colab.research.google.com/assets/colab-badge.svg\" alt=\"Open In Colab\"/></a>"
      ]
    },
    {
      "cell_type": "code",
      "metadata": {
        "id": "LXHgurK1oywU"
      },
      "source": [
        ""
      ],
      "execution_count": null,
      "outputs": []
    },
    {
      "cell_type": "markdown",
      "metadata": {
        "id": "Tf6BrMwdozk-"
      },
      "source": [
        "python progam for checking if given number is positive or not"
      ]
    },
    {
      "cell_type": "code",
      "metadata": {
        "colab": {
          "base_uri": "https://localhost:8080/"
        },
        "id": "Np0uWiEeplgd",
        "outputId": "2ceaa75b-079d-4d09-f9f2-ff9efc118845"
      },
      "source": [
        "x=int(input())\n",
        "if x>=0:\n",
        "  print(\"given number is positive\")\n",
        "else:\n",
        "  print(\"given number is negitive\")"
      ],
      "execution_count": 1,
      "outputs": [
        {
          "output_type": "stream",
          "text": [
            "7\n",
            "given number is positive\n"
          ],
          "name": "stdout"
        }
      ]
    },
    {
      "cell_type": "markdown",
      "metadata": {
        "id": "RpOnXzecpyik"
      },
      "source": [
        "python program to check the given year is leap year or not"
      ]
    },
    {
      "cell_type": "code",
      "metadata": {
        "colab": {
          "base_uri": "https://localhost:8080/"
        },
        "id": "YnouueiHp9zl",
        "outputId": "2021b84c-3705-442b-dcb6-1a47648306a8"
      },
      "source": [
        "print(\"enter the year\")\n",
        "a= int(input())\n",
        "if (a%4==0 and a%100!=0) or (a%400==0):\n",
        "  print(\"given year is leap year\")\n",
        "else:\n",
        "  print(\"given year if not a leap year\")"
      ],
      "execution_count": 2,
      "outputs": [
        {
          "output_type": "stream",
          "text": [
            "enter the year\n",
            "2020\n",
            "given year is leap year\n"
          ],
          "name": "stdout"
        }
      ]
    },
    {
      "cell_type": "markdown",
      "metadata": {
        "id": "DSnzY7WAqLPN"
      },
      "source": [
        "\n",
        "\n",
        "python program to print sum of cubes upto given n number that means if we give a number n it will print 1^3+2^3+....n^3"
      ]
    },
    {
      "cell_type": "code",
      "metadata": {
        "colab": {
          "base_uri": "https://localhost:8080/"
        },
        "id": "xv-ICGkhqRPV",
        "outputId": "1c1671b9-28fc-48b1-f29c-0e7fa2e27355"
      },
      "source": [
        "n=int(input())\n",
        "s=0\n",
        "for i in range(0,n+1):\n",
        "  s+=i**3\n",
        "print(s)"
      ],
      "execution_count": 3,
      "outputs": [
        {
          "output_type": "stream",
          "text": [
            "5\n",
            "225\n"
          ],
          "name": "stdout"
        }
      ]
    },
    {
      "cell_type": "markdown",
      "metadata": {
        "id": "jDcczS-GqZBs"
      },
      "source": [
        "python program for adding factorials from 1 to n numbers, n is input and program will give 1!+2!+3!....n! as output"
      ]
    },
    {
      "cell_type": "code",
      "metadata": {
        "colab": {
          "base_uri": "https://localhost:8080/"
        },
        "id": "nUQSUuu3qiPR",
        "outputId": "1bd46db5-6b94-4b5a-920c-66ab78ecc623"
      },
      "source": [
        "print(\"enter a number\")\n",
        "n=int(input())\n",
        "fact=1\n",
        "summ=0\n",
        "for i in range(1,n+1):\n",
        "  fact*=i\n",
        "  summ+=fact\n",
        "print(\"sum of the factorials =\",summ)"
      ],
      "execution_count": 4,
      "outputs": [
        {
          "output_type": "stream",
          "text": [
            "enter a number\n",
            "8\n",
            "sum of the factorials = 46233\n"
          ],
          "name": "stdout"
        }
      ]
    },
    {
      "cell_type": "markdown",
      "metadata": {
        "id": "FlXL1UjyqrfO"
      },
      "source": [
        "python program to print second highest odd number in the given list of numbers if the input is 1 6 3 7 8 4 then the output is 3"
      ]
    },
    {
      "cell_type": "code",
      "metadata": {
        "colab": {
          "base_uri": "https://localhost:8080/"
        },
        "id": "wWO2ZQJSq7ve",
        "outputId": "ad6167fa-e639-4ae8-cef5-cf0ac93278aa"
      },
      "source": [
        "l=[int(x) for x in input().split()]\n",
        "k = sorted(filter(lambda x : x%2==1,l))\n",
        "if len(k)>1:\n",
        "  print(k[1])\n",
        "else:\n",
        "  print(\"no solution\")"
      ],
      "execution_count": 5,
      "outputs": [
        {
          "output_type": "stream",
          "text": [
            "1 3 5 7 9\n",
            "3\n"
          ],
          "name": "stdout"
        }
      ]
    },
    {
      "cell_type": "code",
      "metadata": {
        "id": "uU5q2oVQrM9z"
      },
      "source": [
        ""
      ],
      "execution_count": null,
      "outputs": []
    }
  ]
}